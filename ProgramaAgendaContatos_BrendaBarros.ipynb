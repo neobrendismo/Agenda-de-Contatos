{
  "nbformat": 4,
  "nbformat_minor": 0,
  "metadata": {
    "colab": {
      "provenance": []
    },
    "kernelspec": {
      "name": "python3",
      "display_name": "Python 3"
    },
    "language_info": {
      "name": "python"
    }
  },
  "cells": [
    {
      "cell_type": "code",
      "execution_count": 19,
      "metadata": {
        "id": "62CJfAqUnH8y"
      },
      "outputs": [],
      "source": [
        "def menu():\n",
        "  print(\"---------- Agenda de Contatos -----------\")\n",
        "  print(\"-----------------------------------------\")\n",
        "  print(\"-- [1] Cadastrar\")\n",
        "  print(\"-- [2] Consultar\")\n",
        "  print(\"-- [3] Modificar\")\n",
        "  print(\"-- [4] Excluir\")\n",
        "  print(\"-- [5] Sair\")\n",
        "  print(\"-----------------------------------------\")\n",
        "  opcao = input(\"Digite a opção desejada: \")\n",
        "  return opcao"
      ]
    },
    {
      "cell_type": "code",
      "source": [
        "def cadastrar(dic_contatos):\n",
        "  print(\"Vamos iniciar o cadastro ...\")\n",
        "  nome = input(\"Digite o nome do contato: \")\n",
        "  numero = input(\"Digite o numero do contato: \")\n",
        "  dic_contatos[nome] = numero\n",
        "  print(\"Finalizamos o cadastro, vamos retornar ao menu inicial...\")"
      ],
      "metadata": {
        "id": "ESPAjOLipNPv"
      },
      "execution_count": 20,
      "outputs": []
    },
    {
      "cell_type": "code",
      "source": [
        "def consultar(dic_contatos):\n",
        "  print(\"Vamos iniciar a consulta ...\")\n",
        "  nome = input(\"Digite o nome do contato desejado: \")\n",
        "  if nome in dic_contatos.keys():\n",
        "    numero = dic_contatos[nome]\n",
        "    print(f\"Numero encontrado: {numero}\")\n",
        "  else:\n",
        "    print(\"ERRO: o contato não consta no sistema!\")\n",
        "  print(\"Concluímos a consulta, vamos retornar ao menu inicial...\")"
      ],
      "metadata": {
        "id": "XqU6B_ITpjVf"
      },
      "execution_count": 21,
      "outputs": []
    },
    {
      "cell_type": "code",
      "source": [
        "def modificar(dic_contatos):  \n",
        "  print(\"Vamos iniciar a alteração do contato ...\")\n",
        "  nome = input(\"Digite o nome do contato desejado: \")\n",
        "  if nome in dic_contatos.keys():\n",
        "    numero = input(\"Contato encontrado, digite o novo numero: \")\n",
        "    dic_contatos[nome] = numero\n",
        "  else:\n",
        "    print(\"ERRO: o contato não consta no sistema!!\")\n",
        "  print(\"Concluímos a alteração, vamos retornar ao menu inicial...\")"
      ],
      "metadata": {
        "id": "HheO_vIapp7z"
      },
      "execution_count": 22,
      "outputs": []
    },
    {
      "cell_type": "code",
      "source": [
        "def excluir(dic_contatos):\n",
        "  print(\"Vamos iniciar a exclusão de um contato ...\")\n",
        "  nome = input(\"Digite o nome do contato desejado: \")\n",
        "  if nome in dic_contatos.keys():\n",
        "    print(\"Contato encontrado, excluindo contato...\")\n",
        "    dic_contatos.pop(nome)\n",
        "  else:\n",
        "    print(\"ERRO: o contato não consta no sistema!\")\n",
        "  print(\"Concluímos a exclusão, vamos retornar ao menu inicial...\")"
      ],
      "metadata": {
        "id": "GZUJKI-CpuRy"
      },
      "execution_count": 23,
      "outputs": []
    },
    {
      "cell_type": "code",
      "source": [
        "dic_contatos = {}\n",
        "while True:\n",
        "  opcao = menu()\n",
        "  if opcao == '1':\n",
        "    cadastrar(dic_contatos)\n",
        "  elif opcao == '2':\n",
        "    consultar(dic_contatos)\n",
        "  elif opcao == '3':\n",
        "    modificar(dic_contatos)\n",
        "  elif opcao == '4':\n",
        "    excluir(dic_contatos)\n",
        "  elif opcao == '5':\n",
        "    print(\"Até logo!\")\n",
        "    break\n",
        "  else:\n",
        "    print(\"Opção inválida!\")"
      ],
      "metadata": {
        "colab": {
          "base_uri": "https://localhost:8080/"
        },
        "id": "w8xFXIVkntwr",
        "outputId": "735d94f4-7504-4de9-f899-980e1e53fc19"
      },
      "execution_count": 27,
      "outputs": [
        {
          "output_type": "stream",
          "name": "stdout",
          "text": [
            "---------- Agenda de Contatos -----------\n",
            "-----------------------------------------\n",
            "-- [1] Cadastrar\n",
            "-- [2] Consultar\n",
            "-- [3] Modificar\n",
            "-- [4] Excluir\n",
            "-- [5] Sair\n",
            "-----------------------------------------\n",
            "Digite a opção desejada: 1\n",
            "Vamos iniciar o cadastro ...\n",
            "Digite o nome do contato: brenda\n",
            "Digite o numero do contato: 333 333 333\n",
            "Finalizamos o cadastro, vamos retornar ao menu inicial...\n",
            "---------- Agenda de Contatos -----------\n",
            "-----------------------------------------\n",
            "-- [1] Cadastrar\n",
            "-- [2] Consultar\n",
            "-- [3] Modificar\n",
            "-- [4] Excluir\n",
            "-- [5] Sair\n",
            "-----------------------------------------\n",
            "Digite a opção desejada: rebeca\n",
            "Opção inválida!\n",
            "---------- Agenda de Contatos -----------\n",
            "-----------------------------------------\n",
            "-- [1] Cadastrar\n",
            "-- [2] Consultar\n",
            "-- [3] Modificar\n",
            "-- [4] Excluir\n",
            "-- [5] Sair\n",
            "-----------------------------------------\n",
            "Digite a opção desejada: 1\n",
            "Vamos iniciar o cadastro ...\n",
            "Digite o nome do contato: rebeca\n",
            "Digite o numero do contato: 222 222 222 \n",
            "Finalizamos o cadastro, vamos retornar ao menu inicial...\n",
            "---------- Agenda de Contatos -----------\n",
            "-----------------------------------------\n",
            "-- [1] Cadastrar\n",
            "-- [2] Consultar\n",
            "-- [3] Modificar\n",
            "-- [4] Excluir\n",
            "-- [5] Sair\n",
            "-----------------------------------------\n",
            "Digite a opção desejada: 1\n",
            "Vamos iniciar o cadastro ...\n",
            "Digite o nome do contato: heitor\n",
            "Digite o numero do contato: 111 111 111\n",
            "Finalizamos o cadastro, vamos retornar ao menu inicial...\n",
            "---------- Agenda de Contatos -----------\n",
            "-----------------------------------------\n",
            "-- [1] Cadastrar\n",
            "-- [2] Consultar\n",
            "-- [3] Modificar\n",
            "-- [4] Excluir\n",
            "-- [5] Sair\n",
            "-----------------------------------------\n",
            "Digite a opção desejada: 5\n",
            "Até logo!\n"
          ]
        }
      ]
    },
    {
      "cell_type": "code",
      "source": [
        "print(dic_contatos)\n"
      ],
      "metadata": {
        "id": "uWFptUcgn2MS",
        "colab": {
          "base_uri": "https://localhost:8080/"
        },
        "outputId": "8228fc48-50bd-48eb-f834-08d774ff1bcb"
      },
      "execution_count": 28,
      "outputs": [
        {
          "output_type": "stream",
          "name": "stdout",
          "text": [
            "{'brenda': '333 333 333', 'rebeca': '222 222 222 ', 'heitor': '111 111 111'}\n"
          ]
        }
      ]
    }
  ]
}